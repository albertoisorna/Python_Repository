{
 "cells": [
  {
   "cell_type": "code",
   "execution_count": 1,
   "metadata": {},
   "outputs": [],
   "source": [
    "# Librerías\n",
    "from skimage import data\n",
    "from skimage import io\n",
    "from skimage.transform import resize\n",
    "from skimage import color\n",
    "from math import log\n",
    "\n",
    "import matplotlib.pyplot as plt\n",
    "import numpy as np"
   ]
  },
  {
   "cell_type": "code",
   "execution_count": 52,
   "metadata": {},
   "outputs": [],
   "source": [
    "def LocalEntropy_fast(Im,n,x,y,bins):\n",
    "    \"\"\"\n",
    "    Funcion que calcula la entropia local de una imagen\n",
    "    Im = Imagen en escala de grises, n = tamaño de la celdilla \n",
    "    x,y = posicion X,Y del pixel a calcular\n",
    "    \"\"\"\n",
    "    mlen = (n+2)*(n+2)\n",
    "    \n",
    "    # seleccionamos la matriz correspondiente\n",
    "    localm = Im[(y-n):(y+n+1),(x-n):(x+n+1)] \n",
    "    hist, bin_edges = np.histogram(localm,bins) \n",
    "    print(hist)\n",
    "    sump = 0\n",
    "    for i  in hist:\n",
    "        if (i!=0):\n",
    "            pp = i/mlen\n",
    "            sump += (pp)*np.log(pp) \n",
    "            \n",
    "    return (-1*sump)\n",
    "\n",
    "# --- Definimos la función del calculo de la entropia\n",
    "def LocalEntropy(Im,n,x,y,bins,info):\n",
    "    \"\"\"\n",
    "    Funcion que calcula la entropia local de una imagen\n",
    "    Im = Imagen en escala de grises\n",
    "    n = tamaño de la celdilla \n",
    "    x = posicion X del pixel a calcular\n",
    "    Y = posicion Y del pixel a calcular\n",
    "    info = 0 -> Devolvemos solo la entropía\n",
    "    info = 1 -> Devolvemos mas información \n",
    "    \"\"\"\n",
    "\n",
    "    # seleccionamos la matriz correspondiente\n",
    "    localm = Im[(y-n):(y+n+1),(x-n):(x+n+1)] \n",
    "    print(localm)\n",
    "    size = (n+2)*(n+2)\n",
    "    hist, bin_edges = np.histogram(localm,bins) #print(hist,bin_edges)\n",
    "    print(hist)\n",
    "    \n",
    "    #Calculamos la entropía como suma de probabilidades por su logaritmo\n",
    "    sump = 0\n",
    "    for i  in hist:\n",
    "        if (i!=0):\n",
    "            print()\n",
    "            print(i)\n",
    "            pp = i/(size)   # probabilidad parcial\n",
    "            lpp = np.log(pp) # log probabilidad parcial\n",
    "            prod = pp*lpp # hacemos el producto\n",
    "            sump += prod  # calculamos entropia\n",
    "            print(pp)\n",
    "            print(lpp)\n",
    "    ent = -1*sump\n",
    "    if (info==1):\n",
    "        return ent,localm,hist,bin_edges\n",
    "    else:\n",
    "        return ent\n",
    "\n",
    "\n",
    "    \n",
    "    \n",
    "def LocalEntropy_fast2(Im,n,x,y,bins):\n",
    "    \"\"\"\n",
    "    Funcion que calcula la entropia local de una imagen\n",
    "    Im = Imagen en escala de grises, n = tamaño de la celdilla \n",
    "    x,y = posicion X,Y del pixel a calcular\n",
    "    \"\"\"\n",
    "    mlen = (n+2)*(n+2)\n",
    "    \n",
    "    # seleccionamos la matriz correspondiente\n",
    "    localm = Im[(y-n):(y+n+1),(x-n):(x+n+1)] \n",
    "    t, bin_edges = np.histogram(localm,bins) \n",
    "    t = t[t != 0]\n",
    "    t = t/mlen\n",
    "    entr = -np.dot(t,np.log(t.T))\n",
    "     \n",
    "    return ent"
   ]
  },
  {
   "cell_type": "code",
   "execution_count": 53,
   "metadata": {},
   "outputs": [
    {
     "name": "stdout",
     "output_type": "stream",
     "text": [
      "[[1 1 2 3 4 7]\n",
      " [1 1 2 2 2 9]\n",
      " [1 3 4 5 6 8]\n",
      " [1 3 4 2 3 7]\n",
      " [1 1 1 1 2 3]]\n"
     ]
    }
   ],
   "source": [
    "im = np.array([[1,1,2,3,4,7],[1,1,2,2,2,9],[1,3,4,5,6,8],[1,3,4,2,3,7],[1,1,1,1,2,3]])\n",
    "print(im)"
   ]
  },
  {
   "cell_type": "code",
   "execution_count": 54,
   "metadata": {},
   "outputs": [
    {
     "name": "stdout",
     "output_type": "stream",
     "text": [
      "1.5229550675313182\n"
     ]
    }
   ],
   "source": [
    "n = 1\n",
    "bins = 10\n",
    "sh = im.shape\n",
    "x = 2\n",
    "y = 2\n",
    "\n",
    "ent = LocalEntropy_fast2(im,n,x,y,bins)\n",
    "\n",
    "print(ent)"
   ]
  },
  {
   "cell_type": "code",
   "execution_count": 55,
   "metadata": {},
   "outputs": [
    {
     "name": "stdout",
     "output_type": "stream",
     "text": [
      "1.5229550675313182\n"
     ]
    }
   ],
   "source": [
    "t = np.array([1 ,0 ,3 ,0 ,0 ,2 ,0 ,2 ,0 ,1])\n",
    "\n",
    "\n",
    "print(entr)"
   ]
  },
  {
   "cell_type": "code",
   "execution_count": 75,
   "metadata": {},
   "outputs": [
    {
     "ename": "SyntaxError",
     "evalue": "invalid syntax (<ipython-input-75-98ad2ab8f396>, line 6)",
     "output_type": "error",
     "traceback": [
      "\u001b[1;36m  File \u001b[1;32m\"<ipython-input-75-98ad2ab8f396>\"\u001b[1;36m, line \u001b[1;32m6\u001b[0m\n\u001b[1;33m    new[(a++),:,:] = im\u001b[0m\n\u001b[1;37m            ^\u001b[0m\n\u001b[1;31mSyntaxError\u001b[0m\u001b[1;31m:\u001b[0m invalid syntax\n"
     ]
    }
   ],
   "source": [
    "\n",
    "new = np.zeros((3,im.shape[0],im.shape[1]))\n",
    "\n",
    "a = 0\n",
    "for i in [1,4,6]:\n",
    "    print(im)\n",
    "    new[a,:,:] = im\n",
    "    a+= 1"
   ]
  },
  {
   "cell_type": "code",
   "execution_count": 73,
   "metadata": {},
   "outputs": [
    {
     "data": {
      "text/plain": [
       "array([[[1., 1., 2., 3., 4., 7.],\n",
       "        [1., 1., 2., 2., 2., 9.],\n",
       "        [1., 3., 4., 5., 6., 8.],\n",
       "        [1., 3., 4., 2., 3., 7.],\n",
       "        [1., 1., 1., 1., 2., 3.]],\n",
       "\n",
       "       [[1., 1., 2., 3., 4., 7.],\n",
       "        [1., 1., 2., 2., 2., 9.],\n",
       "        [1., 3., 4., 5., 6., 8.],\n",
       "        [1., 3., 4., 2., 3., 7.],\n",
       "        [1., 1., 1., 1., 2., 3.]],\n",
       "\n",
       "       [[1., 1., 2., 3., 4., 7.],\n",
       "        [1., 1., 2., 2., 2., 9.],\n",
       "        [1., 3., 4., 5., 6., 8.],\n",
       "        [1., 3., 4., 2., 3., 7.],\n",
       "        [1., 1., 1., 1., 2., 3.]]])"
      ]
     },
     "execution_count": 73,
     "metadata": {},
     "output_type": "execute_result"
    }
   ],
   "source": [
    "new"
   ]
  },
  {
   "cell_type": "code",
   "execution_count": 69,
   "metadata": {},
   "outputs": [
    {
     "data": {
      "text/plain": [
       "array([[1, 1, 2, 3, 4, 7],\n",
       "       [1, 1, 2, 2, 2, 9],\n",
       "       [1, 3, 4, 5, 6, 8],\n",
       "       [1, 3, 4, 2, 3, 7],\n",
       "       [1, 1, 1, 1, 2, 3]])"
      ]
     },
     "execution_count": 69,
     "metadata": {},
     "output_type": "execute_result"
    }
   ],
   "source": [
    "im"
   ]
  },
  {
   "cell_type": "code",
   "execution_count": null,
   "metadata": {},
   "outputs": [],
   "source": []
  }
 ],
 "metadata": {
  "kernelspec": {
   "display_name": "Python 3",
   "language": "python",
   "name": "python3"
  },
  "language_info": {
   "codemirror_mode": {
    "name": "ipython",
    "version": 3
   },
   "file_extension": ".py",
   "mimetype": "text/x-python",
   "name": "python",
   "nbconvert_exporter": "python",
   "pygments_lexer": "ipython3",
   "version": "3.7.3"
  }
 },
 "nbformat": 4,
 "nbformat_minor": 2
}
