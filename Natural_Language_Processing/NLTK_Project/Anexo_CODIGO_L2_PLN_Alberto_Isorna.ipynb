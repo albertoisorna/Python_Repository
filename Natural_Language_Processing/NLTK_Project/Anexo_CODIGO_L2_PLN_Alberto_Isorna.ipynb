{
  "nbformat": 4,
  "nbformat_minor": 0,
  "metadata": {
    "colab": {
      "name": "L2_PLN_Alberto_Isorna.ipynb",
      "provenance": [],
      "collapsed_sections": [],
      "toc_visible": true
    },
    "kernelspec": {
      "name": "python3",
      "display_name": "Python 3"
    }
  },
  "cells": [
    {
      "cell_type": "markdown",
      "metadata": {
        "id": "RoTxU4MksOqv",
        "colab_type": "text"
      },
      "source": [
        "# Laboratorio"
      ]
    },
    {
      "cell_type": "markdown",
      "metadata": {
        "id": "a-v0cmjesOcj",
        "colab_type": "text"
      },
      "source": [
        "## Librerias"
      ]
    },
    {
      "cell_type": "code",
      "metadata": {
        "id": "cTbGVk6d3SRL",
        "colab_type": "code",
        "outputId": "b61c8a0b-3aec-4040-fdb3-5a70b94792fd",
        "colab": {
          "base_uri": "https://localhost:8080/",
          "height": 50
        }
      },
      "source": [
        "import nltk\n",
        "nltk.download('wordnet')\n",
        "from nltk.corpus import wordnet as wn"
      ],
      "execution_count": 1,
      "outputs": [
        {
          "output_type": "stream",
          "text": [
            "[nltk_data] Downloading package wordnet to /root/nltk_data...\n",
            "[nltk_data]   Unzipping corpora/wordnet.zip.\n"
          ],
          "name": "stdout"
        }
      ]
    },
    {
      "cell_type": "markdown",
      "metadata": {
        "id": "Uq1Ml5lzsQ9F",
        "colab_type": "text"
      },
      "source": [
        "## 1 - Obtener los diferentes synsets\n",
        "\n",
        "\n"
      ]
    },
    {
      "cell_type": "code",
      "metadata": {
        "id": "uMcf-pB234OZ",
        "colab_type": "code",
        "outputId": "7dff7646-6596-4cf6-9553-8dab147afbf0",
        "colab": {
          "base_uri": "https://localhost:8080/",
          "height": 134
        }
      },
      "source": [
        "# 1 - Obtén los diferentes synsets para cada una de las siguientes palabras\n",
        "list_synset = list()\n",
        "print('Synsets:\\n')\n",
        "words = ['mosquito','tsetse', 'housefly','spider','cockroach']\n",
        "for i in words:\n",
        "  list_synset.append(wn.synsets(i))\n",
        "  print(wn.synsets(i))\n",
        "\n",
        "d = list()"
      ],
      "execution_count": 2,
      "outputs": [
        {
          "output_type": "stream",
          "text": [
            "Synsets:\n",
            "\n",
            "[Synset('mosquito.n.01')]\n",
            "[Synset('tsetse_fly.n.01')]\n",
            "[Synset('housefly.n.01')]\n",
            "[Synset('spider.n.01'), Synset('spider.n.02'), Synset('spider.n.03')]\n",
            "[Synset('cockroach.n.01')]\n"
          ],
          "name": "stdout"
        }
      ]
    },
    {
      "cell_type": "markdown",
      "metadata": {
        "id": "QSoviIm8sp1-",
        "colab_type": "text"
      },
      "source": [
        "\n",
        "##2 - Definición de cada uno de los sentidos\n",
        "\n"
      ]
    },
    {
      "cell_type": "code",
      "metadata": {
        "id": "-dIBpTJqsja6",
        "colab_type": "code",
        "outputId": "de35bc6a-aca0-4f4d-ffb0-7d8b3dc913c9",
        "colab": {
          "base_uri": "https://localhost:8080/",
          "height": 524
        }
      },
      "source": [
        "# 2 - Muestra la definición de cada uno de los sentidos o synsets de las palabras del punto 1).\n",
        "print('\\nDefiniciones:')\n",
        "for i in words:\n",
        "  sn = wn.synsets(i)\n",
        "  print('\\nWord : ',i)\n",
        "  d.append(sn[0].definition())\n",
        "  for k in range(len(sn)):\n",
        "    print('{} \\nDefinition : {}'.format(sn[k],sn[k].definition()))\n",
        "\n",
        "print('\\n\\n',d)"
      ],
      "execution_count": 3,
      "outputs": [
        {
          "output_type": "stream",
          "text": [
            "\n",
            "Definiciones:\n",
            "\n",
            "Word :  mosquito\n",
            "Synset('mosquito.n.01') \n",
            "Definition : two-winged insect whose female has a long proboscis to pierce the skin and suck the blood of humans and animals\n",
            "\n",
            "Word :  tsetse\n",
            "Synset('tsetse_fly.n.01') \n",
            "Definition : bloodsucking African fly; transmits sleeping sickness etc.\n",
            "\n",
            "Word :  housefly\n",
            "Synset('housefly.n.01') \n",
            "Definition : common fly that frequents human habitations and spreads many diseases\n",
            "\n",
            "Word :  spider\n",
            "Synset('spider.n.01') \n",
            "Definition : predatory arachnid with eight legs, two poison fangs, two feelers, and usually two silk-spinning organs at the back end of the body; they spin silk to make cocoons for eggs or traps for prey\n",
            "Synset('spider.n.02') \n",
            "Definition : a computer program that prowls the internet looking for publicly accessible resources that can be added to a database; the database can then be searched with a search engine\n",
            "Synset('spider.n.03') \n",
            "Definition : a skillet made of cast iron\n",
            "\n",
            "Word :  cockroach\n",
            "Synset('cockroach.n.01') \n",
            "Definition : any of numerous chiefly nocturnal insects; some are domestic pests\n",
            "\n",
            "\n",
            " ['two-winged insect whose female has a long proboscis to pierce the skin and suck the blood of humans and animals', 'bloodsucking African fly; transmits sleeping sickness etc.', 'common fly that frequents human habitations and spreads many diseases', 'predatory arachnid with eight legs, two poison fangs, two feelers, and usually two silk-spinning organs at the back end of the body; they spin silk to make cocoons for eggs or traps for prey', 'any of numerous chiefly nocturnal insects; some are domestic pests']\n"
          ],
          "name": "stdout"
        }
      ]
    },
    {
      "cell_type": "markdown",
      "metadata": {
        "id": "NFgl9M6Ks88E",
        "colab_type": "text"
      },
      "source": [
        "## 3 - Seleccion sentido unico"
      ]
    },
    {
      "cell_type": "code",
      "metadata": {
        "id": "yI4AK5UssjQq",
        "colab_type": "code",
        "outputId": "9f55ab82-6a90-4a0a-f966-f47077e902ba",
        "colab": {
          "base_uri": "https://localhost:8080/",
          "height": 440
        }
      },
      "source": [
        "# 3 - Si alguna de las palabras tuviera más de un posible sentido (synset), \n",
        "#deberás seleccionar un único sentido para poder seguir desarrollando la actividad\n",
        "\n",
        "\n",
        "# libreria para la media\n",
        "from statistics import mean \n",
        "\n",
        "cp = list_synset\n",
        "\n",
        "# palabras con varios synset\n",
        "spider = cp[3]\n",
        "\n",
        "# resto\n",
        "list_sinspider = [x for x in cp if x != spider]\n",
        "\n",
        "print(spider)\n",
        "print(list_sinspider)\n",
        "\n",
        "# calculamos similitudes\n",
        "d =list()\n",
        "f =list()\n",
        "for i in range(len(spider)):\n",
        "  print('\\nSpider : ',i)\n",
        "  for j in range(len(list_sinspider)):\n",
        "    sim = spider[i].path_similarity(list_sinspider[j][0])\n",
        "    d.append(sim)\n",
        "    print('Spider {} with {} : similarity = {}'.format(i,list_sinspider[j][0],sim))\n",
        "  \n",
        "  f.append(mean(d))\n",
        "  d=list()\n",
        "\n",
        "# Elegimos el maximo\n",
        "print('\\nMedia de las similitudes : ',f)\n",
        "print('Definicion mas acertada  :  Spider {}'.format(f.index(max(f))))\n",
        "print('Definicion :',spider[0].definition())"
      ],
      "execution_count": 4,
      "outputs": [
        {
          "output_type": "stream",
          "text": [
            "[Synset('spider.n.01'), Synset('spider.n.02'), Synset('spider.n.03')]\n",
            "[[Synset('mosquito.n.01')], [Synset('tsetse_fly.n.01')], [Synset('housefly.n.01')], [Synset('cockroach.n.01')]]\n",
            "\n",
            "Spider :  0\n",
            "Spider 0 with Synset('mosquito.n.01') : similarity = 0.16666666666666666\n",
            "Spider 0 with Synset('tsetse_fly.n.01') : similarity = 0.14285714285714285\n",
            "Spider 0 with Synset('housefly.n.01') : similarity = 0.14285714285714285\n",
            "Spider 0 with Synset('cockroach.n.01') : similarity = 0.16666666666666666\n",
            "\n",
            "Spider :  1\n",
            "Spider 1 with Synset('mosquito.n.01') : similarity = 0.047619047619047616\n",
            "Spider 1 with Synset('tsetse_fly.n.01') : similarity = 0.045454545454545456\n",
            "Spider 1 with Synset('housefly.n.01') : similarity = 0.045454545454545456\n",
            "Spider 1 with Synset('cockroach.n.01') : similarity = 0.047619047619047616\n",
            "\n",
            "Spider :  2\n",
            "Spider 2 with Synset('mosquito.n.01') : similarity = 0.05555555555555555\n",
            "Spider 2 with Synset('tsetse_fly.n.01') : similarity = 0.05263157894736842\n",
            "Spider 2 with Synset('housefly.n.01') : similarity = 0.05263157894736842\n",
            "Spider 2 with Synset('cockroach.n.01') : similarity = 0.05555555555555555\n",
            "\n",
            "Media de las similitudes :  [0.15476190476190477, 0.046536796536796536, 0.054093567251461985]\n",
            "Definicion mas acertada  :  Spider 0\n",
            "Definicion : predatory arachnid with eight legs, two poison fangs, two feelers, and usually two silk-spinning organs at the back end of the body; they spin silk to make cocoons for eggs or traps for prey\n"
          ],
          "name": "stdout"
        }
      ]
    },
    {
      "cell_type": "markdown",
      "metadata": {
        "id": "r8Mch-JjtBN_",
        "colab_type": "text"
      },
      "source": [
        "##4 - Sinonimos"
      ]
    },
    {
      "cell_type": "code",
      "metadata": {
        "id": "tQYcit_sKrJl",
        "colab_type": "code",
        "outputId": "c37dc34c-0007-48bb-8318-340821c85343",
        "colab": {
          "base_uri": "https://localhost:8080/",
          "height": 101
        }
      },
      "source": [
        "#4) Una vez hayas seleccionado un único sentido para cada una de las palabras,\n",
        "# para cada uno de esos cinco synsets muestra las palabras que son sinónimos \n",
        "# y que conforman el synset, es decir los sinónimos que comparten un mismo significado.\n",
        "\n",
        "# Construimos la lista de sinstets\n",
        "a = list_sinspider.copy()\n",
        "a.append([spider[0]])\n",
        "a\n",
        "\n",
        "# Vemos los sinonimos\n",
        "for j in range(len(a)):\n",
        "  syn = a[j][0]\n",
        "  print(syn.name(),syn.lemma_names())\n"
      ],
      "execution_count": 5,
      "outputs": [
        {
          "output_type": "stream",
          "text": [
            "mosquito.n.01 ['mosquito']\n",
            "tsetse_fly.n.01 ['tsetse_fly', 'tsetse', 'tzetze_fly', 'tzetze', 'glossina']\n",
            "housefly.n.01 ['housefly', 'house_fly', 'Musca_domestica']\n",
            "cockroach.n.01 ['cockroach', 'roach']\n",
            "spider.n.01 ['spider']\n"
          ],
          "name": "stdout"
        }
      ]
    },
    {
      "cell_type": "markdown",
      "metadata": {
        "id": "SAARmSR1tWq7",
        "colab_type": "text"
      },
      "source": [
        "## 5 - Hiponimos"
      ]
    },
    {
      "cell_type": "code",
      "metadata": {
        "id": "W43m4FXJnNU_",
        "colab_type": "code",
        "outputId": "3354db76-7803-486b-d613-0abb523128de",
        "colab": {
          "base_uri": "https://localhost:8080/",
          "height": 121
        }
      },
      "source": [
        "# 5) Para cada uno de los cinco synsets obtén las palabras que son hipónimos del sentido de la palabra.\n",
        "# Vemos los sinonimos\n",
        "for j in range(len(a)):\n",
        "  syn = a[j][0]\n",
        "  print(syn.name(),syn.hyponyms())"
      ],
      "execution_count": 6,
      "outputs": [
        {
          "output_type": "stream",
          "text": [
            "mosquito.n.01 [Synset('anopheline.n.01'), Synset('asian_tiger_mosquito.n.01'), Synset('common_mosquito.n.01'), Synset('culex_quinquefasciatus.n.01'), Synset('gnat.n.02'), Synset('malarial_mosquito.n.01'), Synset('yellow-fever_mosquito.n.01')]\n",
            "tsetse_fly.n.01 []\n",
            "housefly.n.01 []\n",
            "cockroach.n.01 [Synset('american_cockroach.n.01'), Synset('australian_cockroach.n.01'), Synset('german_cockroach.n.01'), Synset('giant_cockroach.n.01'), Synset('oriental_cockroach.n.01')]\n",
            "spider.n.01 [Synset('barn_spider.n.01'), Synset('black_and_gold_garden_spider.n.01'), Synset('black_widow.n.01'), Synset('comb-footed_spider.n.01'), Synset('garden_spider.n.01'), Synset('orb-weaving_spider.n.01'), Synset('tarantula.n.02'), Synset('trap-door_spider.n.01'), Synset('wolf_spider.n.01')]\n"
          ],
          "name": "stdout"
        }
      ]
    },
    {
      "cell_type": "markdown",
      "metadata": {
        "id": "2HlP2-onteZj",
        "colab_type": "text"
      },
      "source": [
        "## 6 - Jerarquia hyperonimos"
      ]
    },
    {
      "cell_type": "code",
      "metadata": {
        "id": "p0AzBOU-tdzx",
        "colab_type": "code",
        "outputId": "d1ee6478-4f75-487c-fc5c-9d8daae4ff74",
        "colab": {
          "base_uri": "https://localhost:8080/",
          "height": 121
        }
      },
      "source": [
        "# 6) Para cada uno de los cinco synsets obtén las palabras que son hiperónimos del sentido\n",
        "# de la palabra, de hecho, muestra toda la jerarquía de hiperónimos no solo el hiperónimo directo.\n",
        "for j in range(len(a)):\n",
        "  syn = a[j][0]\n",
        "  print(syn.name(),syn.hypernym_paths())"
      ],
      "execution_count": 7,
      "outputs": [
        {
          "output_type": "stream",
          "text": [
            "mosquito.n.01 [[Synset('entity.n.01'), Synset('physical_entity.n.01'), Synset('object.n.01'), Synset('whole.n.02'), Synset('living_thing.n.01'), Synset('organism.n.01'), Synset('animal.n.01'), Synset('invertebrate.n.01'), Synset('arthropod.n.01'), Synset('insect.n.01'), Synset('dipterous_insect.n.01'), Synset('mosquito.n.01')]]\n",
            "tsetse_fly.n.01 [[Synset('entity.n.01'), Synset('physical_entity.n.01'), Synset('object.n.01'), Synset('whole.n.02'), Synset('living_thing.n.01'), Synset('organism.n.01'), Synset('animal.n.01'), Synset('invertebrate.n.01'), Synset('arthropod.n.01'), Synset('insect.n.01'), Synset('dipterous_insect.n.01'), Synset('fly.n.01'), Synset('tsetse_fly.n.01')]]\n",
            "housefly.n.01 [[Synset('entity.n.01'), Synset('physical_entity.n.01'), Synset('object.n.01'), Synset('whole.n.02'), Synset('living_thing.n.01'), Synset('organism.n.01'), Synset('animal.n.01'), Synset('invertebrate.n.01'), Synset('arthropod.n.01'), Synset('insect.n.01'), Synset('dipterous_insect.n.01'), Synset('fly.n.01'), Synset('housefly.n.01')]]\n",
            "cockroach.n.01 [[Synset('entity.n.01'), Synset('physical_entity.n.01'), Synset('object.n.01'), Synset('whole.n.02'), Synset('living_thing.n.01'), Synset('organism.n.01'), Synset('animal.n.01'), Synset('invertebrate.n.01'), Synset('arthropod.n.01'), Synset('insect.n.01'), Synset('dictyopterous_insect.n.01'), Synset('cockroach.n.01')]]\n",
            "spider.n.01 [[Synset('entity.n.01'), Synset('physical_entity.n.01'), Synset('object.n.01'), Synset('whole.n.02'), Synset('living_thing.n.01'), Synset('organism.n.01'), Synset('animal.n.01'), Synset('invertebrate.n.01'), Synset('arthropod.n.01'), Synset('arachnid.n.01'), Synset('spider.n.01')]]\n"
          ],
          "name": "stdout"
        }
      ]
    },
    {
      "cell_type": "markdown",
      "metadata": {
        "id": "n1HhniBRt2sU",
        "colab_type": "text"
      },
      "source": [
        "## 7 - Dibujo jerarquia tesauro"
      ]
    },
    {
      "cell_type": "code",
      "metadata": {
        "id": "vEAPhkwmtqgT",
        "colab_type": "code",
        "colab": {}
      },
      "source": [
        "# 7) Dibuja un tesauro donde se muestre la jerarquía de los cinco synsets y sus hiperónimos desde el nivel superior de\n",
        "# la jerarquía hasta llegar al nivel donde aparezcan los sentidos de las cinco palabras analizadas.\n"
      ],
      "execution_count": 0,
      "outputs": []
    },
    {
      "cell_type": "markdown",
      "metadata": {
        "id": "SG8HwP4Bt7HE",
        "colab_type": "text"
      },
      "source": [
        "## 8 - Ancestro común mas bajo"
      ]
    },
    {
      "cell_type": "code",
      "metadata": {
        "id": "AlG1B8iDrT2d",
        "colab_type": "code",
        "outputId": "b5983ec7-c3a1-4a50-bc1d-7f04110ca1a9",
        "colab": {
          "base_uri": "https://localhost:8080/",
          "height": 185
        }
      },
      "source": [
        "# 8) Calcula el ancestro común mas bajo para cada posible par de synsets\n",
        "import itertools as it\n",
        "b = list(it.combinations(a,2))\n",
        "\n",
        "def calcu_ancestro(par):\n",
        "  x = par[0][0]\n",
        "  y = par[1][0]\n",
        "  r = x.lowest_common_hypernyms(y)\n",
        "  return r,x,y\n",
        "\n",
        "\n",
        "for p in range(len(b)):\n",
        "  anc,x,y = calcu_ancestro(b[p])\n",
        "  print('Ancestro Minimo : {} y {} = {}'.format(x,y,anc))\n"
      ],
      "execution_count": 8,
      "outputs": [
        {
          "output_type": "stream",
          "text": [
            "Ancestro Minimo : Synset('mosquito.n.01') y Synset('tsetse_fly.n.01') = [Synset('dipterous_insect.n.01')]\n",
            "Ancestro Minimo : Synset('mosquito.n.01') y Synset('housefly.n.01') = [Synset('dipterous_insect.n.01')]\n",
            "Ancestro Minimo : Synset('mosquito.n.01') y Synset('cockroach.n.01') = [Synset('insect.n.01')]\n",
            "Ancestro Minimo : Synset('mosquito.n.01') y Synset('spider.n.01') = [Synset('arthropod.n.01')]\n",
            "Ancestro Minimo : Synset('tsetse_fly.n.01') y Synset('housefly.n.01') = [Synset('fly.n.01')]\n",
            "Ancestro Minimo : Synset('tsetse_fly.n.01') y Synset('cockroach.n.01') = [Synset('insect.n.01')]\n",
            "Ancestro Minimo : Synset('tsetse_fly.n.01') y Synset('spider.n.01') = [Synset('arthropod.n.01')]\n",
            "Ancestro Minimo : Synset('housefly.n.01') y Synset('cockroach.n.01') = [Synset('insect.n.01')]\n",
            "Ancestro Minimo : Synset('housefly.n.01') y Synset('spider.n.01') = [Synset('arthropod.n.01')]\n",
            "Ancestro Minimo : Synset('cockroach.n.01') y Synset('spider.n.01') = [Synset('arthropod.n.01')]\n"
          ],
          "name": "stdout"
        }
      ]
    },
    {
      "cell_type": "markdown",
      "metadata": {
        "id": "xthfLeOJuAwg",
        "colab_type": "text"
      },
      "source": [
        "## 9 - Profundidad"
      ]
    },
    {
      "cell_type": "code",
      "metadata": {
        "id": "ArTtCguvtwEK",
        "colab_type": "code",
        "outputId": "c7a684f5-8ff7-48ad-83aa-7d56c798f4d2",
        "colab": {
          "base_uri": "https://localhost:8080/",
          "height": 101
        }
      },
      "source": [
        "# 9) Calcula la profundidad de cada uno de los cinco synsets.\n",
        "s= 'Profundidad Synset {} \\t-> {}'\n",
        "\n",
        "for j in range(len(a)):\n",
        "  syn = a[j][0]\n",
        "  print(s.format(syn.name(),syn.min_depth()))"
      ],
      "execution_count": 9,
      "outputs": [
        {
          "output_type": "stream",
          "text": [
            "Profundidad Synset mosquito.n.01 \t-> 11\n",
            "Profundidad Synset tsetse_fly.n.01 \t-> 12\n",
            "Profundidad Synset housefly.n.01 \t-> 12\n",
            "Profundidad Synset cockroach.n.01 \t-> 11\n",
            "Profundidad Synset spider.n.01 \t-> 10\n"
          ],
          "name": "stdout"
        }
      ]
    },
    {
      "cell_type": "markdown",
      "metadata": {
        "id": "Ex-l3vmTuHik",
        "colab_type": "text"
      },
      "source": [
        "## 10 - Similaritud de palabras"
      ]
    },
    {
      "cell_type": "code",
      "metadata": {
        "id": "ro8j6EuetyIz",
        "colab_type": "code",
        "outputId": "62b3e32b-54a2-45bf-9726-addb8538039f",
        "colab": {
          "base_uri": "https://localhost:8080/",
          "height": 185
        }
      },
      "source": [
        "# 10) Por último, indica que par de palabras de las cinco que has analizado en\n",
        "# este laboratorio son las más similares, utiliza una medida de similitud diferente\n",
        "\n",
        "def calcu_sim(par):\n",
        "  x = par[0][0]\n",
        "  y = par[1][0]\n",
        "  r = x.wup_similarity(y)\n",
        "  return r,x,y\n",
        "\n",
        "\n",
        "for p in range(len(b)):\n",
        "  sim,x,y = calcu_sim(b[p])\n",
        "  print('Wup similarity : {} y {} \\t=> {}'.format(x,y,sim))"
      ],
      "execution_count": 10,
      "outputs": [
        {
          "output_type": "stream",
          "text": [
            "Wup similarity : Synset('mosquito.n.01') y Synset('tsetse_fly.n.01') \t=> 0.88\n",
            "Wup similarity : Synset('mosquito.n.01') y Synset('housefly.n.01') \t=> 0.88\n",
            "Wup similarity : Synset('mosquito.n.01') y Synset('cockroach.n.01') \t=> 0.8333333333333334\n",
            "Wup similarity : Synset('mosquito.n.01') y Synset('spider.n.01') \t=> 0.782608695652174\n",
            "Wup similarity : Synset('tsetse_fly.n.01') y Synset('housefly.n.01') \t=> 0.9230769230769231\n",
            "Wup similarity : Synset('tsetse_fly.n.01') y Synset('cockroach.n.01') \t=> 0.8\n",
            "Wup similarity : Synset('tsetse_fly.n.01') y Synset('spider.n.01') \t=> 0.75\n",
            "Wup similarity : Synset('housefly.n.01') y Synset('cockroach.n.01') \t=> 0.8\n",
            "Wup similarity : Synset('housefly.n.01') y Synset('spider.n.01') \t=> 0.75\n",
            "Wup similarity : Synset('cockroach.n.01') y Synset('spider.n.01') \t=> 0.782608695652174\n"
          ],
          "name": "stdout"
        }
      ]
    }
  ]
}